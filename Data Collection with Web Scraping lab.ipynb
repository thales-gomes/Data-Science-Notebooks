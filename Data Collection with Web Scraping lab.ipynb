{
    "cells": [
        {
            "cell_type": "markdown",
            "metadata": {},
            "source": "<center>\n    <img src=\"https://gitlab.com/ibm/skills-network/courses/placeholder101/-/raw/master/labs/module%201/images/IDSNlogo.png\" width=\"300\" alt=\"cognitiveclass.ai logo\"  />\n</center>\n"
        },
        {
            "cell_type": "markdown",
            "metadata": {},
            "source": "# **Space X  Falcon 9 First Stage Landing Prediction**\n"
        },
        {
            "cell_type": "markdown",
            "metadata": {},
            "source": "## Web scraping Falcon 9 and Falcon Heavy Launches Records from Wikipedia\n"
        },
        {
            "cell_type": "markdown",
            "metadata": {},
            "source": "Estimated time needed: **40** minutes\n"
        },
        {
            "cell_type": "markdown",
            "metadata": {},
            "source": "In this lab, you will be performing web scraping to collect Falcon 9 historical launch records from a Wikipedia page titled `List of Falcon 9 and Falcon Heavy launches`\n\n[https://en.wikipedia.org/wiki/List_of_Falcon\\_9\\_and_Falcon_Heavy_launches](https://en.wikipedia.org/wiki/List_of_Falcon\\_9\\_and_Falcon_Heavy_launches?utm_medium=Exinfluencer&utm_source=Exinfluencer&utm_content=000026UJ&utm_term=10006555&utm_id=NA-SkillsNetwork-Channel-SkillsNetworkCoursesIBMDS0321ENSkillsNetwork26802033-2021-01-01)\n"
        },
        {
            "cell_type": "markdown",
            "metadata": {},
            "source": "![](https://cf-courses-data.s3.us.cloud-object-storage.appdomain.cloud/IBM-DS0321EN-SkillsNetwork/labs/module\\_1\\_L2/images/Falcon9\\_rocket_family.svg)\n"
        },
        {
            "cell_type": "markdown",
            "metadata": {},
            "source": "Falcon 9 first stage will land successfully\n"
        },
        {
            "cell_type": "markdown",
            "metadata": {},
            "source": "![](https://cf-courses-data.s3.us.cloud-object-storage.appdomain.cloud/IBMDeveloperSkillsNetwork-DS0701EN-SkillsNetwork/api/Images/landing\\_1.gif)\n"
        },
        {
            "cell_type": "markdown",
            "metadata": {},
            "source": "Several examples of an unsuccessful landing are shown here:\n"
        },
        {
            "cell_type": "markdown",
            "metadata": {},
            "source": "![](https://cf-courses-data.s3.us.cloud-object-storage.appdomain.cloud/IBMDeveloperSkillsNetwork-DS0701EN-SkillsNetwork/api/Images/crash.gif)\n"
        },
        {
            "cell_type": "markdown",
            "metadata": {},
            "source": "More specifically, the launch records are stored in a HTML table shown below:\n"
        },
        {
            "cell_type": "markdown",
            "metadata": {},
            "source": "![](https://cf-courses-data.s3.us.cloud-object-storage.appdomain.cloud/IBM-DS0321EN-SkillsNetwork/labs/module\\_1\\_L2/images/falcon9-launches-wiki.png)\n"
        },
        {
            "cell_type": "markdown",
            "metadata": {},
            "source": "## Objectives\n\nWeb scrap Falcon 9 launch records with `BeautifulSoup`:\n\n*   Extract a Falcon 9 launch records HTML table from Wikipedia\n*   Parse the table and convert it into a Pandas data frame\n"
        },
        {
            "cell_type": "markdown",
            "metadata": {},
            "source": "First let's import required packages for this lab\n"
        },
        {
            "cell_type": "code",
            "execution_count": 1,
            "metadata": {},
            "outputs": [
                {
                    "name": "stdout",
                    "output_type": "stream",
                    "text": "Requirement already satisfied: beautifulsoup4 in /opt/conda/envs/Python-3.8-main/lib/python3.8/site-packages (4.9.3)\nRequirement already satisfied: soupsieve>1.2 in /opt/conda/envs/Python-3.8-main/lib/python3.8/site-packages (from beautifulsoup4) (2.2.1)\nRequirement already satisfied: requests in /opt/conda/envs/Python-3.8-main/lib/python3.8/site-packages (2.25.1)\nRequirement already satisfied: urllib3<1.27,>=1.21.1 in /opt/conda/envs/Python-3.8-main/lib/python3.8/site-packages (from requests) (1.26.6)\nRequirement already satisfied: chardet<5,>=3.0.2 in /opt/conda/envs/Python-3.8-main/lib/python3.8/site-packages (from requests) (3.0.4)\nRequirement already satisfied: certifi>=2017.4.17 in /opt/conda/envs/Python-3.8-main/lib/python3.8/site-packages (from requests) (2021.10.8)\nRequirement already satisfied: idna<3,>=2.5 in /opt/conda/envs/Python-3.8-main/lib/python3.8/site-packages (from requests) (2.8)\n"
                }
            ],
            "source": "!pip3 install beautifulsoup4\n!pip3 install requests"
        },
        {
            "cell_type": "code",
            "execution_count": 2,
            "metadata": {},
            "outputs": [],
            "source": "import sys\n\nimport requests\nfrom bs4 import BeautifulSoup\nimport re\nimport unicodedata\nimport pandas as pd"
        },
        {
            "cell_type": "markdown",
            "metadata": {},
            "source": "and we will provide some helper functions for you to process web scraped HTML table\n"
        },
        {
            "cell_type": "code",
            "execution_count": 3,
            "metadata": {},
            "outputs": [],
            "source": "def date_time(table_cells):\n    \"\"\"\n    This function returns the data and time from the HTML  table cell\n    Input: the  element of a table data cell extracts extra row\n    \"\"\"\n    return [data_time.strip() for data_time in list(table_cells.strings)][0:2]\n\ndef booster_version(table_cells):\n    \"\"\"\n    This function returns the booster version from the HTML  table cell \n    Input: the  element of a table data cell extracts extra row\n    \"\"\"\n    out=''.join([booster_version for i,booster_version in enumerate( table_cells.strings) if i%2==0][0:-1])\n    return out\n\ndef landing_status(table_cells):\n    \"\"\"\n    This function returns the landing status from the HTML table cell \n    Input: the  element of a table data cell extracts extra row\n    \"\"\"\n    out=[i for i in table_cells.strings][0]\n    return out\n\n\ndef get_mass(table_cells):\n    mass=unicodedata.normalize(\"NFKD\", table_cells.text).strip()\n    if mass:\n        mass.find(\"kg\")\n        new_mass=mass[0:mass.find(\"kg\")+2]\n    else:\n        new_mass=0\n    return new_mass\n\n\ndef extract_column_from_header(row):\n    \"\"\"\n    This function returns the landing status from the HTML table cell \n    Input: the  element of a table data cell extracts extra row\n    \"\"\"\n    if (row.br):\n        row.br.extract()\n    if row.a:\n        row.a.extract()\n    if row.sup:\n        row.sup.extract()\n        \n    colunm_name = ' '.join(row.contents)\n    \n    # Filter the digit and empty names\n    if not(colunm_name.strip().isdigit()):\n        colunm_name = colunm_name.strip()\n        return colunm_name    \n"
        },
        {
            "cell_type": "markdown",
            "metadata": {},
            "source": "To keep the lab tasks consistent, you will be asked to scrape the data from a snapshot of the  `List of Falcon 9 and Falcon Heavy launches` Wikipage updated on\n`9th June 2021`\n"
        },
        {
            "cell_type": "code",
            "execution_count": 4,
            "metadata": {},
            "outputs": [],
            "source": "static_url = \"https://en.wikipedia.org/w/index.php?title=List_of_Falcon_9_and_Falcon_Heavy_launches&oldid=1027686922\""
        },
        {
            "cell_type": "markdown",
            "metadata": {},
            "source": "Next, request the HTML page from the above URL and get a `response` object\n"
        },
        {
            "cell_type": "markdown",
            "metadata": {},
            "source": "### TASK 1: Request the Falcon9 Launch Wiki page from its URL\n"
        },
        {
            "cell_type": "markdown",
            "metadata": {},
            "source": "First, let's perform an HTTP GET method to request the Falcon9 Launch HTML page, as an HTTP response.\n"
        },
        {
            "cell_type": "code",
            "execution_count": 5,
            "metadata": {},
            "outputs": [],
            "source": "# use requests.get() method with the provided static_url\nresponse = requests.get(static_url)\n# assign the response to a object"
        },
        {
            "cell_type": "markdown",
            "metadata": {},
            "source": "Create a `BeautifulSoup` object from the HTML `response`\n"
        },
        {
            "cell_type": "code",
            "execution_count": 6,
            "metadata": {},
            "outputs": [],
            "source": "# Use BeautifulSoup() to create a BeautifulSoup object from a response text content\nsoup = BeautifulSoup(response.content)"
        },
        {
            "cell_type": "markdown",
            "metadata": {},
            "source": "Print the page title to verify if the `BeautifulSoup` object was created properly\n"
        },
        {
            "cell_type": "code",
            "execution_count": 7,
            "metadata": {},
            "outputs": [
                {
                    "data": {
                        "text/plain": "'List of Falcon 9 and Falcon Heavy launches - Wikipedia'"
                    },
                    "execution_count": 7,
                    "metadata": {},
                    "output_type": "execute_result"
                }
            ],
            "source": "# Use soup.title attribute\nsoup.title.text"
        },
        {
            "cell_type": "markdown",
            "metadata": {},
            "source": "### TASK 2: Extract all column/variable names from the HTML table header\n"
        },
        {
            "cell_type": "markdown",
            "metadata": {},
            "source": "Next, we want to collect all relevant column names from the HTML table header\n"
        },
        {
            "cell_type": "markdown",
            "metadata": {},
            "source": "Let's try to find all tables on the wiki page first. If you need to refresh your memory about `BeautifulSoup`, please check the external reference link towards the end of this lab\n"
        },
        {
            "cell_type": "code",
            "execution_count": 8,
            "metadata": {},
            "outputs": [],
            "source": "# Use the find_all function in the BeautifulSoup object, with element type `table`\n# Assign the result to a list called `html_tables`\nhtml_tables = soup.find_all('table')"
        },
        {
            "cell_type": "markdown",
            "metadata": {},
            "source": "Starting from the third table is our target table contains the actual launch records.\n"
        },
        {
            "cell_type": "code",
            "execution_count": 9,
            "metadata": {},
            "outputs": [],
            "source": "# Let's print the third table and check its content\nfirst_launch_table = html_tables[2]"
        },
        {
            "cell_type": "markdown",
            "metadata": {},
            "source": "Next, we just need to iterate through the `<th>` elements and apply the provided `extract_column_from_header()` to extract column name one by one\n"
        },
        {
            "cell_type": "code",
            "execution_count": 28,
            "metadata": {},
            "outputs": [
                {
                    "data": {
                        "text/plain": "['Flight No.',\n 'Date and time ( )',\n 'Launch site',\n 'Payload',\n 'Payload mass',\n 'Orbit',\n 'Customer',\n 'Launch outcome']"
                    },
                    "execution_count": 28,
                    "metadata": {},
                    "output_type": "execute_result"
                }
            ],
            "source": "column_names = []\n\n# Apply find_all() function with `th` element on first_launch_table\ntable_headers = first_launch_table.find_all('th')\n# Iterate each th element and apply the provided extract_column_from_header() to get a column name\nfor th in table_headers:\n    c_name = extract_column_from_header(th)\n    if c_name:\n        column_names.append(c_name)\n# Append the Non-empty column name (`if name is not None and len(name) > 0`) into a list called column_names\ncolumn_names"
        },
        {
            "cell_type": "markdown",
            "metadata": {},
            "source": "Check the extracted column names\n"
        },
        {
            "cell_type": "code",
            "execution_count": 29,
            "metadata": {},
            "outputs": [
                {
                    "name": "stdout",
                    "output_type": "stream",
                    "text": "['Flight No.', 'Date and time ( )', 'Launch site', 'Payload', 'Payload mass', 'Orbit', 'Customer', 'Launch outcome']\n"
                }
            ],
            "source": "print(column_names)"
        },
        {
            "cell_type": "markdown",
            "metadata": {},
            "source": "## TASK 3: Create a data frame by parsing the launch HTML tables\n"
        },
        {
            "cell_type": "markdown",
            "metadata": {},
            "source": "We will create an empty dictionary with keys from the extracted column names in the previous task. Later, this dictionary will be converted into a Pandas dataframe\n"
        },
        {
            "cell_type": "code",
            "execution_count": 32,
            "metadata": {},
            "outputs": [
                {
                    "data": {
                        "text/plain": "{'Flight No.': [],\n 'Launch site': [],\n 'Payload': [],\n 'Payload mass': [],\n 'Orbit': [],\n 'Customer': [],\n 'Launch outcome': [],\n 'Version Booster': [],\n 'Booster landing': [],\n 'Date': [],\n 'Time': []}"
                    },
                    "execution_count": 32,
                    "metadata": {},
                    "output_type": "execute_result"
                }
            ],
            "source": "launch_dict= dict.fromkeys(column_names)\n\n# Remove an irrelvant column\ndel launch_dict['Date and time ( )']\n\n# Let's initial the launch_dict with each value to be an empty list\nlaunch_dict['Flight No.'] = []\nlaunch_dict['Launch site'] = []\nlaunch_dict['Payload'] = []\nlaunch_dict['Payload mass'] = []\nlaunch_dict['Orbit'] = []\nlaunch_dict['Customer'] = []\nlaunch_dict['Launch outcome'] = []\n# Added some new columns\nlaunch_dict['Version Booster']=[]\nlaunch_dict['Booster landing']=[]\nlaunch_dict['Date']=[]\nlaunch_dict['Time']=[]\nlaunch_dict"
        },
        {
            "cell_type": "markdown",
            "metadata": {},
            "source": "Next, we just need to fill up the `launch_dict` with launch records extracted from table rows.\n"
        },
        {
            "cell_type": "markdown",
            "metadata": {},
            "source": "Usually, HTML tables in Wiki pages are likely to contain unexpected annotations and other types of noises, such as reference links `B0004.1[8]`, missing values `N/A [e]`, inconsistent formatting, etc.\n"
        },
        {
            "cell_type": "markdown",
            "metadata": {},
            "source": "To simplify the parsing process, we have provided an incomplete code snippet below to help you to fill up the `launch_dict`. Please complete the following code snippet with TODOs or you can choose to write your own logic to parse all launch tables:\n"
        },
        {
            "cell_type": "code",
            "execution_count": 33,
            "metadata": {},
            "outputs": [
                {
                    "name": "stdout",
                    "output_type": "stream",
                    "text": "1\n4 June 2010\nF9 v1.0B0003.1\nCCAFS\nDragon Spacecraft Qualification Unit\n0\nLEO\nSpaceX\nFailure\n2\n8 December 2010\nF9 v1.0B0004.1\nCCAFS\nDragon\n0\nLEO\nNASA\nFailure\n3\n22 May 2012\nF9 v1.0B0005.1\nCCAFS\nDragon\n525 kg\nLEO\nNASA\nNo attempt\n\n4\n8 October 2012\nF9 v1.0B0006.1\nCCAFS\nSpaceX CRS-1\n4,700 kg\nLEO\nNASA\nNo attempt\n5\n1 March 2013\nF9 v1.0B0007.1\nCCAFS\nSpaceX CRS-2\n4,877 kg\nLEO\nNASA\nNo attempt\n\n6\n29 September 2013\nF9 v1.1B1003\nVAFB\nCASSIOPE\n500 kg\nPolar orbit\nMDA\nUncontrolled\n7\n3 December 2013\nF9 v1.1\nCCAFS\nSES-8\n3,170 kg\nGTO\nSES\nNo attempt\n8\n6 January 2014\nF9 v1.1\nCCAFS\nThaicom 6\n3,325 kg\nGTO\nThaicom\nNo attempt\n9\n18 April 2014\nF9 v1.1\nCape Canaveral\nSpaceX CRS-3\n2,296 kg\nLEO\nNASA\nControlled\n10\n14 July 2014\nF9 v1.1\nCape Canaveral\nOrbcomm-OG2\n1,316 kg\nLEO\nOrbcomm\nControlled\n11\n5 August 2014\nF9 v1.1\nCape Canaveral\nAsiaSat 8\n4,535 kg\nGTO\nAsiaSat\nNo attempt\n12\n7 September 2014\nF9 v1.1\nCape Canaveral\nAsiaSat 6\n4,428 kg\nGTO\nAsiaSat\nNo attempt\n\n13\n21 September 2014\nF9 v1.1\nCape Canaveral\nSpaceX CRS-4\n2,216 kg\nLEO\nNASA\nUncontrolled\n14\n10 January 2015\nF9 v1.1\nCape Canaveral\nSpaceX CRS-5\n2,395 kg\nLEO\nNASA\nFailure \n15\n11 February 2015\nF9 v1.1\nCape Canaveral\nDSCOVR\n570 kg\nHEO\nUSAF\nControlled\n16\n2 March 2015\nF9 v1.1\nCape Canaveral\nABS-3A\n4,159 kg\nGTO\nABS\nNo attempt\n17\n14 April 2015\nF9 v1.1\nCape Canaveral\nSpaceX CRS-6\n1,898 kg\nLEO\nNASA\nFailure\n18\n27 April 2015\nF9 v1.1\nCape Canaveral\nT\u00fcrkmen\u00c4lem 52\u00b0E / MonacoSAT\n4,707 kg\nGTO\nNone\nNo attempt\n19\n28 June 2015\nF9 v1.1\nCape Canaveral\nSpaceX CRS-7\n1,952 kg\nLEO\nNASA\nPrecluded\n20\n22 December 2015\nF9 FT\nCape Canaveral\nOrbcomm-OG2\n2,034 kg\nLEO\nOrbcomm\nSuccess\n21\n17 January 2016\nF9 v1.1\nVAFB\nJason-3\n553 kg\nLEO\nNASA\nFailure\n22\n4 March 2016\nF9 FT\nCape Canaveral\nSES-9\n5,271 kg\nGTO\nSES\nFailure\n23\n8 April 2016\nF9 FT\nCape Canaveral\nSpaceX CRS-8\n3,136 kg\nLEO\nNASA\nSuccess\n24\n6 May 2016\nF9 FT\nCape Canaveral\nJCSAT-14\n4,696 kg\nGTO\nSKY Perfect JSAT Group\nSuccess\n25\n27 May 2016\nF9 FT\nCape Canaveral\nThaicom 8\n3,100 kg\nGTO\nThaicom\nSuccess\n26\n15 June 2016\nF9 FT\nCape Canaveral\nABS-2A\n3,600 kg\nGTO\nABS\nFailure\n27\n18 July 2016\nF9 FT\nCape Canaveral\nSpaceX CRS-9\n2,257 kg\nLEO\nNASA\nSuccess\n28\n14 August 2016\nF9 FT\nCape Canaveral\nJCSAT-16\n4,600 kg\nGTO\nSKY Perfect JSAT Group\nSuccess\n29\n14 January 2017\nF9 FT\nVAFB\nIridium NEXT\n9,600 kg\nPolar\nIridium Communications\nSuccess\n30\n19 February 2017\nF9 FT\nKSC\nSpaceX CRS-10\n2,490 kg\nLEO\nNASA\nSuccess\n31\n16 March 2017\nF9 FT\nKSC\nEchoStar 23\n5,600 kg\nGTO\nEchoStar\nNo attempt\n32\n30 March 2017\nF9 FT\u267a\nKSC\nSES-10\n5,300 kg\nGTO\nSES\nSuccess\n33\n1 May 2017\nF9 FT\nKSC\nNROL-76\nC\nLEO\nNRO\nSuccess\n34\n15 May 2017\nF9 FT\nKSC\nInmarsat-5 F4\n6,070 kg\nGTO\nInmarsat\nNo attempt\n35\n3 June 2017\nF9 FT\nKSC\nSpaceX CRS-11\n2,708 kg\nLEO\nNASA\nSuccess\n36\n23 June 2017\nF9 FTB1029.2\nKSC\nBulgariaSat-1\n3,669 kg\nGTO\nBulsatcom\nSuccess\n37\n25 June 2017\nF9 FT\nVAFB\nIridium NEXT\n9,600 kg\nLEO\nIridium Communications\nSuccess\n38\n5 July 2017\nF9 FT\nKSC\nIntelsat 35e\n6,761 kg\nGTO\nIntelsat\nNo attempt\n39\n14 August 2017\nF9 B4\nKSC\nSpaceX CRS-12\n3,310 kg\nLEO\nNASA\nSuccess\n40\n24 August 2017\nF9 FT\nVAFB\nFormosat-5\n475 kg\nSSO\nNSPO\nSuccess\n41\n7 September 2017\nF9 B4\nKSC\nBoeing X-37B\n4,990 kg\nLEO\nUSAF\nSuccess\n42\n9 October 2017\nF9 B4\nVAFB\nIridium NEXT\n9,600 kg\nPolar\nIridium Communications\nSuccess\n43\n11 October 2017\nF9 FTB1031.2\nKSC\nSES-11\n5,200 kg\nGTO\nSES S.A.\nSuccess\n44\n30 October 2017\nF9 B4\nKSC\nKoreasat 5A\n3,500 kg\nGTO\nKT Corporation\nSuccess\n45\n15 December 2017\nF9 FTB1035.2\nCape Canaveral\nSpaceX CRS-13\n2,205 kg\nLEO\nNASA\nSuccess\n46\n23 December 2017\nF9 FTB1036.2\nVAFB\nIridium NEXT\n9,600 kg\nPolar\nIridium Communications\nControlled\n47\n8 January 2018\nF9 B4\nCCAFS\nZuma\nC\nLEO\nNorthrop Grumman\nSuccess\n48\n31 January 2018\nF9 FTB1032.2\nCCAFS\nGovSat-1\n4,230 kg\nGTO\nSES\nControlled\n49\n22 February 2018\nF9 FTB1038.2\nVAFB\nPaz\n2,150 kg\nSSO\nHisdesat\nNo attempt\n50\n6 March 2018\nF9 B4\nCCAFS\nHispasat 30W-6\n6,092 kg\nGTO\nHispasat\nNo attempt\n51\n30 March 2018\nF9 B4B1041.2\nVAFB\nIridium NEXT\n9,600 kg\nPolar\nIridium Communications\nNo attempt\n52\n2 April 2018\nF9 B4B1039.2\nCCAFS\nSpaceX CRS-14\n2,647 kg\nLEO\nNASA\nNo attempt\n53\n18 April 2018\nF9 B4\nCCAFS\nTransiting Exoplanet Survey Satellite\n362 kg\nHEO\nNASA\nSuccess\n54\n11 May 2018\nF9 B5B1046.1\nKSC\nBangabandhu-1\n3,600 kg\nGTO\nThales-Alenia\nSuccess\n55\n22 May 2018\nF9 B4B1043.2\nVAFB\nIridium NEXT\n6,460 kg\nPolar\nIridium Communications\nNo attempt\n56\n4 June 2018\nF9 B4B1040.2\nCCAFS\nSES-12\n5,384 kg\nGTO\nSES\nNo attempt\n57\n29 June 2018\nF9 B4B1045.2\nCCAFS\nSpaceX CRS-15\n2,697 kg\nLEO\nNASA\nNo attempt\n58\n22 July 2018\nF9 B5\nCCAFS\nTelstar 19V\n7,075 kg\nGTO\nTelesat\nSuccess\n59\n25 July 2018\nF9 B5B1048\nVAFB\nIridium NEXT\n9,600 kg\nPolar\nIridium Communications\nSuccess\n60\n7 August 2018\nF9 B5B1046.2\nCCAFS\nMerah Putih\n5,800 kg\nGTO\nTelkom Indonesia\nSuccess\n61\n10 September 2018\nF9 B5\nCCAFS\nTelstar 18V\n7,060 kg\nGTO\nTelesat\nSuccess\n62\n8 October 2018\nF9 B5B1048.2\nVAFB\nSAOCOM 1A\n3,000 kg\nSSO\nCONAE\nSuccess\n63\n15 November 2018\nF9 B5B1047.2\nKSC\nEs'hail 2\n5,300 kg\nGTO\nEs'hailSat\nSuccess\n64\n3 December 2018\nF9 B5B1046.3\nVAFB\nSSO-A\n~4,000 kg\nSSO\nSpaceflight Industries\nSuccess\n65\n5 December 2018\nF9 B5\nCCAFS\nSpaceX CRS-16\n2,500 kg\nLEO\nNASA\nFailure\n66\n23 December 2018\nF9 B5\nCCAFS\nGPS III\n4,400 kg\nMEO\nUSAF\nNo attempt\n67\n11 January 2019\nF9 B5B1049.2\nVAFB\nIridium NEXT\n9,600 kg\nPolar\nIridium Communications\nSuccess\n68\n22 February 2019\nF9 B5B1048.3\nCCAFS\nNusantara Satu\n4,850 kg\nGTO\nPSN\nSuccess\n69\n2 March 2019\nF9 B5[268]\nKSC\nCrew Dragon Demo-1\n12,055 kg\nLEO\nNASA\nSuccess\n70\n4 May 2019\nF9 B5\nCCAFS\nSpaceX CRS-17\n2,495 kg\nLEO\nNASA\nSuccess\n71\n24 May 2019\nF9 B5B1049.3\nCCAFS\nStarlink\n13,620 kg\nLEO\nSpaceX\nSuccess\n72\n12 June 2019\nF9 B5B1051.2\nVAFB\nRADARSAT Constellation\n4,200 kg\nSSO\nCanadian Space Agency\nSuccess\n73\n25 July 2019\nF9 B5B1056.2\nCCAFS\nSpaceX CRS-18\n2,268 kg\nLEO\nNASA\nSuccess\n74\n6 August 2019\nF9 B5B1047.3\nCCAFS\nAMOS-17\n6,500 kg\nGTO\nSpacecom\nNo attempt\n75\n11 November 2019\nF9 B5\nCCAFS\nStarlink\n15,600 kg\nLEO\nSpaceX\nSuccess\n76\n5 December 2019\nF9 B5\nCCAFS\nSpaceX CRS-19\n2,617 kg\nLEO\nNASA\nSuccess\n77\n17 December 2019\nF9 B5B1056.3\nCCAFS\nJCSat-18\n6,956 kg\nGTO\nSky Perfect JSAT\nSuccess\n78\n7 January 2020\nF9 B5\nCCAFS\nStarlink\n15,600 kg\nLEO\nSpaceX\nSuccess\n79\n19 January 2020\nF9 B5\nKSC\nCrew Dragon in-flight abort test\n12,050 kg\nSub-orbital\nNASA\nNo attempt\n\n80\n29 January 2020\nF9 B5\nCCAFS\nStarlink\n15,600 kg\nLEO\nSpaceX\nSuccess\n81\n17 February 2020\nF9 B5\nCCAFS\nStarlink\n15,600 kg\nLEO\nSpaceX\nFailure\n82\n7 March 2020\nF9 B5\nCCAFS\nSpaceX CRS-20\n1,977 kg\nLEO\nNASA\nSuccess\n83\n18 March 2020\nF9 B5\nKSC\nStarlink\n15,600 kg\nLEO\nSpaceX\nFailure\n84\n22 April 2020\nF9 B5\nKSC\nStarlink\n15,600 kg\nLEO\nSpaceX\nSuccess\n85\n30 May 2020\nF9 B5\nKSC\nCrew Dragon Demo-2\n12,530 kg\nLEO\nNASA\nSuccess\n86\n4 June 2020\nF9 B5\nCCAFS\nStarlink\n15,600 kg\nLEO\nSpaceX\nSuccess\n87\n13 June 2020\nF9 B5\nCCAFS\nStarlink\n15,410 kg\nLEO\nSpaceX\nSuccess\n88\n30 June 2020\nF9 B5\nCCAFS\nGPS III\n4,311 kg\nMEO\nU.S. Space Force\nSuccess\n89\n20 July 2020\nF9 B5B1058.2\nCCAFS\nANASIS-II\n5,000\u20136,000 kg\nGTO\nRepublic of Korea Army\nSuccess\n90\n7 August 2020\nF9 B5\nKSC\nStarlink\n14,932 kg\nLEO\nSpaceX\nSuccess\n91\n18 August 2020\nF9 B5B1049.6\nCCAFS\nStarlink\n~15,440 kg\nLEO\nSpaceX\nSuccess\n92\n30 August 2020\nF9 B5\nCCAFS\nSAOCOM 1B\n3,130 kg\nSSO\nCONAE\nSuccess\n93\n3 September 2020\nF9 B5B1060.2\nKSC\nStarlink\n15,600 kg\nLEO\nSpaceX\nSuccess\n94\n6 October 2020\nF9 B5B1058.3\nKSC\nStarlink\n15,600 kg\nLEO\nSpaceX\nSuccess\n95\n18 October 2020\nF9 B5B1051.6\nKSC\nStarlink\n15,600 kg\nLEO\nSpaceX\nSuccess\n96\n24 October 2020\nF9 B5\nCCAFS\nStarlink\n15,600 kg\nLEO\nSpaceX\nSuccess\n97\n5 November 2020\nF9 B5\nCCAFS\nGPS III\n4,311 kg\nMEO\nUSSF\nSuccess\n98\n16 November 2020\nF9 B5\nKSC\nCrew-1\n~12,500 kg\nLEO\nNASA\nSuccess\n99\n21 November 2020\nF9 B5\nVAFB\nSentinel-6 Michael Freilich (Jason-CS A)\n1,192 kg\nLEO\nNASA\nSuccess\n100\n25 November 2020\nF9 B5 \u267a\nCCAFS\nStarlink\n15,600 kg\nLEO\nSpaceX\nSuccess\n101\n6 December 2020\nF9 B5 \u267a\nKSC\nSpaceX CRS-21\n2,972 kg\nLEO\nNASA\nSuccess\n102\n13 December 2020\nF9 B5 \u267a\nCCSFS\nSXM-7\n7,000 kg\nGTO\nSirius XM\nSuccess\n103\n19 December 2020\nF9 B5 \u267a\nKSC\nNROL-108\nC\nLEO\nNRO\nSuccess\n104\n8 January 2021\nF9 B5\nCCSFS\nT\u00fcrksat 5A\n3,500 kg\nGTO\nT\u00fcrksat\nSuccess\n105\n20 January 2021\nF9 B5B1051.8\nKSC\nStarlink\n15,600 kg\nLEO\nSpaceX\nSuccess\n106\n24 January 2021\nF9 B5B1058.5\nCCSFS\nTransporter-1\n~5,000 kg\nSSO\n"
                },
                {
                    "ename": "AttributeError",
                    "evalue": "'NoneType' object has no attribute 'string'",
                    "output_type": "error",
                    "traceback": [
                        "\u001b[0;31m---------------------------------------------------------------------------\u001b[0m",
                        "\u001b[0;31mAttributeError\u001b[0m                            Traceback (most recent call last)",
                        "\u001b[0;32m/tmp/wsuser/ipykernel_155/1763272781.py\u001b[0m in \u001b[0;36m<module>\u001b[0;34m\u001b[0m\n\u001b[1;32m     68\u001b[0m             \u001b[0;31m# Customer\u001b[0m\u001b[0;34m\u001b[0m\u001b[0;34m\u001b[0m\u001b[0;34m\u001b[0m\u001b[0m\n\u001b[1;32m     69\u001b[0m             \u001b[0;31m# TODO: Append the customer into launch_dict with key `Customer`\u001b[0m\u001b[0;34m\u001b[0m\u001b[0;34m\u001b[0m\u001b[0;34m\u001b[0m\u001b[0m\n\u001b[0;32m---> 70\u001b[0;31m             \u001b[0mcustomer\u001b[0m \u001b[0;34m=\u001b[0m \u001b[0mrow\u001b[0m\u001b[0;34m[\u001b[0m\u001b[0;36m6\u001b[0m\u001b[0;34m]\u001b[0m\u001b[0;34m.\u001b[0m\u001b[0ma\u001b[0m\u001b[0;34m.\u001b[0m\u001b[0mstring\u001b[0m\u001b[0;34m\u001b[0m\u001b[0;34m\u001b[0m\u001b[0m\n\u001b[0m\u001b[1;32m     71\u001b[0m             \u001b[0mlaunch_dict\u001b[0m\u001b[0;34m[\u001b[0m\u001b[0;34m'Customer'\u001b[0m\u001b[0;34m]\u001b[0m\u001b[0;34m.\u001b[0m\u001b[0mappend\u001b[0m\u001b[0;34m(\u001b[0m\u001b[0mcustomer\u001b[0m\u001b[0;34m)\u001b[0m\u001b[0;34m\u001b[0m\u001b[0;34m\u001b[0m\u001b[0m\n\u001b[1;32m     72\u001b[0m             \u001b[0mprint\u001b[0m\u001b[0;34m(\u001b[0m\u001b[0mcustomer\u001b[0m\u001b[0;34m)\u001b[0m\u001b[0;34m\u001b[0m\u001b[0;34m\u001b[0m\u001b[0m\n",
                        "\u001b[0;31mAttributeError\u001b[0m: 'NoneType' object has no attribute 'string'"
                    ]
                }
            ],
            "source": "extracted_row = 0\n#Extract each table \nfor table_number,table in enumerate(soup.find_all('table',\"wikitable plainrowheaders collapsible\")):\n   # get table row \n    for rows in table.find_all(\"tr\"):\n        #check to see if first table heading is as number corresponding to launch a number \n        if rows.th:\n            if rows.th.string:\n                flight_number=rows.th.string.strip()\n                flag=flight_number.isdigit()\n        else:\n            flag=False\n        #get table element \n        row=rows.find_all('td')\n        #if it is number save cells in a dictonary \n        if flag:\n            extracted_row += 1\n            # Flight Number value\n            # TODO: Append the flight_number into launch_dict with key `Flight No.`\n            launch_dict['Flight No.'].append(flight_number)\n            print(flight_number)\n            datatimelist=date_time(row[0])\n            \n            # Date value\n            # TODO: Append the date into launch_dict with key `Date`\n            date = datatimelist[0].strip(',')\n            launch_dict['Date'].append(date)\n            print(date)\n            \n            # Time value\n            # TODO: Append the time into launch_dict with key `Time`\n            time = datatimelist[1]\n            launch_dict['Time'].append(time)\n            #print(time)\n              \n            # Booster version\n            # TODO: Append the bv into launch_dict with key `Version Booster`\n            bv=booster_version(row[1])\n            if not(bv):\n                bv=row[1].a.string\n            launch_dict['Version Booster'].append(bv)\n            print(bv)\n            \n            # Launch Site\n            # TODO: Append the bv into launch_dict with key `Launch Site`\n            launch_site = row[2].a.string\n            launch_dict['Launch site'].append(launch_site)\n            print(launch_site)\n            \n            # Payload\n            # TODO: Append the payload into launch_dict with key `Payload`\n            payload = row[3].a.string\n            launch_dict['Payload'].append(payload)\n            print(payload)\n            \n            # Payload Mass\n            # TODO: Append the payload_mass into launch_dict with key `Payload mass`\n            payload_mass = get_mass(row[4])\n            launch_dict['Payload mass'].append(payload_mass)\n            print(payload_mass)\n            \n            # Orbit\n            # TODO: Append the orbit into launch_dict with key `Orbit`\n            orbit = row[5].a.string\n            launch_dict['Orbit'].append(orbit)\n            print(orbit)\n            \n            # Customer\n            # TODO: Append the customer into launch_dict with key `Customer`\n            customer = row[6].a.string\n            launch_dict['Customer'].append(customer)\n            print(customer)\n            \n            # Launch outcome\n            # TODO: Append the launch_outcome into launch_dict with key `Launch outcome`\n            launch_outcome = list(row[7].strings)[0]\n            launch_dict['Launch outcome'].append(launch_outcome)\n            #print(launch_outcome)\n            \n            # Booster landing\n            # TODO: Append the launch_outcome into launch_dict with key `Booster landing`\n            booster_landing = landing_status(row[8])\n            launch_dict['Booster landing'].append(booster_landing)\n            print(booster_landing)\n            "
        },
        {
            "cell_type": "markdown",
            "metadata": {},
            "source": "After you have fill in the parsed launch record values into `launch_dict`, you can create a dataframe from it.\n"
        },
        {
            "cell_type": "code",
            "execution_count": 52,
            "metadata": {},
            "outputs": [
                {
                    "name": "stdout",
                    "output_type": "stream",
                    "text": "106\n106\n106\n106\n106\n106\n106\n106\n106\n106\n106\n"
                },
                {
                    "data": {
                        "text/plain": "RangeIndex(start=0, stop=106, step=1)"
                    },
                    "execution_count": 52,
                    "metadata": {},
                    "output_type": "execute_result"
                }
            ],
            "source": "import numpy as np\nfor k,v in launch_dict.items():\n    if len(v) == 105:\n        launch_dict[k].append(np.nan)\n    print(len(v))\ndf=pd.DataFrame(launch_dict)\n"
        },
        {
            "cell_type": "markdown",
            "metadata": {},
            "source": "We can now export it to a <b>CSV</b> for the next section, but to make the answers consistent and in case you have difficulties finishing this lab.\n\nFollowing labs will be using a provided dataset to make each lab independent.\n"
        },
        {
            "cell_type": "markdown",
            "metadata": {},
            "source": "<code>df.to_csv('spacex_web_scraped.csv', index=False)</code>\n"
        },
        {
            "cell_type": "markdown",
            "metadata": {},
            "source": "## Authors\n"
        },
        {
            "cell_type": "markdown",
            "metadata": {},
            "source": "<a href=\"https://www.linkedin.com/in/yan-luo-96288783/?utm_medium=Exinfluencer&utm_source=Exinfluencer&utm_content=000026UJ&utm_term=10006555&utm_id=NA-SkillsNetwork-Channel-SkillsNetworkCoursesIBMDS0321ENSkillsNetwork26802033-2021-01-01\">Yan Luo</a>\n"
        },
        {
            "cell_type": "markdown",
            "metadata": {},
            "source": "<a href=\"https://www.linkedin.com/in/nayefaboutayoun/?utm_medium=Exinfluencer&utm_source=Exinfluencer&utm_content=000026UJ&utm_term=10006555&utm_id=NA-SkillsNetwork-Channel-SkillsNetworkCoursesIBMDS0321ENSkillsNetwork26802033-2021-01-01\">Nayef Abou Tayoun</a>\n"
        },
        {
            "cell_type": "markdown",
            "metadata": {},
            "source": "## Change Log\n"
        },
        {
            "cell_type": "markdown",
            "metadata": {},
            "source": "| Date (YYYY-MM-DD) | Version | Changed By | Change Description          |\n| ----------------- | ------- | ---------- | --------------------------- |\n| 2021-06-09        | 1.0     | Yan Luo    | Tasks updates               |\n| 2020-11-10        | 1.0     | Nayef      | Created the initial version |\n"
        },
        {
            "cell_type": "markdown",
            "metadata": {},
            "source": "Copyright \u00a9 2021 IBM Corporation. All rights reserved.\n"
        }
    ],
    "metadata": {
        "kernelspec": {
            "display_name": "Python 3.8",
            "language": "python",
            "name": "python3"
        },
        "language_info": {
            "codemirror_mode": {
                "name": "ipython",
                "version": 3
            },
            "file_extension": ".py",
            "mimetype": "text/x-python",
            "name": "python",
            "nbconvert_exporter": "python",
            "pygments_lexer": "ipython3",
            "version": "3.8.12"
        }
    },
    "nbformat": 4,
    "nbformat_minor": 4
}